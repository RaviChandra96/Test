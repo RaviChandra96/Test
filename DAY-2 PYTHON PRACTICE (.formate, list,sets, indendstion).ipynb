{
 "cells": [
  {
   "cell_type": "code",
   "execution_count": 1,
   "id": "398d4921",
   "metadata": {},
   "outputs": [],
   "source": [
    "# Priting\n",
    "y = 'hello world'"
   ]
  },
  {
   "cell_type": "code",
   "execution_count": 2,
   "id": "49adc92e",
   "metadata": {},
   "outputs": [
    {
     "data": {
      "text/plain": [
       "'hello world'"
      ]
     },
     "execution_count": 2,
     "metadata": {},
     "output_type": "execute_result"
    }
   ],
   "source": [
    "y"
   ]
  },
  {
   "cell_type": "code",
   "execution_count": 3,
   "id": "2aa37645",
   "metadata": {},
   "outputs": [
    {
     "name": "stdout",
     "output_type": "stream",
     "text": [
      "hello world\n"
     ]
    }
   ],
   "source": [
    "print(y)"
   ]
  },
  {
   "cell_type": "code",
   "execution_count": 16,
   "id": "de7102e5",
   "metadata": {},
   "outputs": [
    {
     "name": "stdout",
     "output_type": "stream",
     "text": [
      "my number is:- 201,my name is:- Ravi\n"
     ]
    }
   ],
   "source": [
    "# .formate variables\n",
    "num=201\n",
    "name='Ravi'\n",
    "print('my number is:- {},my name is:- {}'.format(num,name))"
   ]
  },
  {
   "cell_type": "code",
   "execution_count": 17,
   "id": "208387db",
   "metadata": {},
   "outputs": [
    {
     "name": "stdout",
     "output_type": "stream",
     "text": [
      "my number is:- Ravi,my name is:- 201\n"
     ]
    }
   ],
   "source": [
    "print('my number is:- {},my name is:- {}'.format(name,num))"
   ]
  },
  {
   "cell_type": "code",
   "execution_count": 18,
   "id": "4a9b2ca7",
   "metadata": {},
   "outputs": [
    {
     "name": "stdout",
     "output_type": "stream",
     "text": [
      "my number is:- Ravi,my name is:- Ravi\n"
     ]
    }
   ],
   "source": [
    "print('my number is:- {},my name is:- {}'.format(name,name))"
   ]
  },
  {
   "cell_type": "code",
   "execution_count": 19,
   "id": "91c9fc65",
   "metadata": {},
   "outputs": [
    {
     "name": "stdout",
     "output_type": "stream",
     "text": [
      "my number is:- 201,my name is:- 201\n"
     ]
    }
   ],
   "source": [
    "print('my number is:- {},my name is:- {}'.format(num,num))"
   ]
  },
  {
   "cell_type": "code",
   "execution_count": 20,
   "id": "4490b1b1",
   "metadata": {},
   "outputs": [
    {
     "name": "stdout",
     "output_type": "stream",
     "text": [
      "my name is:- mahesh\n"
     ]
    }
   ],
   "source": [
    "print('my name is:- {}'.format('mahesh'))"
   ]
  },
  {
   "cell_type": "code",
   "execution_count": 21,
   "id": "eb2762f5",
   "metadata": {},
   "outputs": [
    {
     "name": "stdout",
     "output_type": "stream",
     "text": [
      "my name is:- mahesh , my rank is :- 206\n"
     ]
    }
   ],
   "source": [
    "print('my name is:- {} , my rank is :- 206'.format('mahesh'))"
   ]
  },
  {
   "cell_type": "code",
   "execution_count": 22,
   "id": "9e36f889",
   "metadata": {},
   "outputs": [
    {
     "name": "stdout",
     "output_type": "stream",
     "text": [
      "my name is:- mahesh , my rank is :- 206\n"
     ]
    }
   ],
   "source": [
    "print('my name is:- {} , my rank is :- {}'.format('mahesh','206'))"
   ]
  },
  {
   "cell_type": "code",
   "execution_count": 23,
   "id": "6b381275",
   "metadata": {},
   "outputs": [
    {
     "name": "stdout",
     "output_type": "stream",
     "text": [
      "my name is:- mahesh , my rank is :- 210\n"
     ]
    }
   ],
   "source": [
    "print('my name is:- {} , my rank is :- {}'.format('mahesh',210))"
   ]
  },
  {
   "cell_type": "code",
   "execution_count": 27,
   "id": "2f0836c1",
   "metadata": {},
   "outputs": [
    {
     "name": "stdout",
     "output_type": "stream",
     "text": [
      "['False', 'None', 'True', '__peg_parser__', 'and', 'as', 'assert', 'async', 'await', 'break', 'class', 'continue', 'def', 'del', 'elif', 'else', 'except', 'finally', 'for', 'from', 'global', 'if', 'import', 'in', 'is', 'lambda', 'nonlocal', 'not', 'or', 'pass', 'raise', 'return', 'try', 'while', 'with', 'yield']\n",
      "\n",
      " Total number of keywords :- 36\n"
     ]
    }
   ],
   "source": [
    "import keyword\n",
    "print(keyword.kwlist)\n",
    "print('\\n Total number of keywords :-',len(keyword.kwlist))"
   ]
  },
  {
   "cell_type": "code",
   "execution_count": 29,
   "id": "c6e9202e",
   "metadata": {},
   "outputs": [
    {
     "data": {
      "text/plain": [
       "[26, 27, 30]"
      ]
     },
     "execution_count": 29,
     "metadata": {},
     "output_type": "execute_result"
    }
   ],
   "source": [
    "# list operations\n",
    "[26,27,30]"
   ]
  },
  {
   "cell_type": "code",
   "execution_count": 31,
   "id": "21294f00",
   "metadata": {},
   "outputs": [
    {
     "data": {
      "text/plain": [
       "['ravi', 99, 100]"
      ]
     },
     "execution_count": 31,
     "metadata": {},
     "output_type": "execute_result"
    }
   ],
   "source": [
    "['ravi',99,100]"
   ]
  },
  {
   "cell_type": "code",
   "execution_count": 33,
   "id": "8ad20d03",
   "metadata": {},
   "outputs": [
    {
     "data": {
      "text/plain": [
       "['ravi', 22, 23, [45, 85]]"
      ]
     },
     "execution_count": 33,
     "metadata": {},
     "output_type": "execute_result"
    }
   ],
   "source": [
    "['ravi', 22,23,[45,85]]"
   ]
  },
  {
   "cell_type": "code",
   "execution_count": 39,
   "id": "7f44af47",
   "metadata": {},
   "outputs": [],
   "source": [
    "#list operations\n",
    "# .append() function\n",
    "mynumbers=['23','28','45']\n",
    "mynumbers.append('84')"
   ]
  },
  {
   "cell_type": "code",
   "execution_count": 40,
   "id": "53c135d5",
   "metadata": {},
   "outputs": [
    {
     "data": {
      "text/plain": [
       "['23', '28', '45', '84']"
      ]
     },
     "execution_count": 40,
     "metadata": {},
     "output_type": "execute_result"
    }
   ],
   "source": [
    "mynumbers"
   ]
  },
  {
   "cell_type": "code",
   "execution_count": 41,
   "id": "9dfc180c",
   "metadata": {},
   "outputs": [],
   "source": [
    "#list operations\n",
    "# .append() function\n",
    "mynumbers=[23,28,45]\n",
    "mynumbers.append(84)"
   ]
  },
  {
   "cell_type": "code",
   "execution_count": 42,
   "id": "99d340d8",
   "metadata": {},
   "outputs": [
    {
     "data": {
      "text/plain": [
       "[23, 28, 45, 84]"
      ]
     },
     "execution_count": 42,
     "metadata": {},
     "output_type": "execute_result"
    }
   ],
   "source": [
    "\n",
    "mynumbers"
   ]
  },
  {
   "cell_type": "code",
   "execution_count": 45,
   "id": "a12b890e",
   "metadata": {},
   "outputs": [
    {
     "data": {
      "text/plain": [
       "28"
      ]
     },
     "execution_count": 45,
     "metadata": {},
     "output_type": "execute_result"
    }
   ],
   "source": [
    "# finding indexing methode\n",
    "mynumbers[1]"
   ]
  },
  {
   "cell_type": "code",
   "execution_count": 44,
   "id": "304edfb7",
   "metadata": {},
   "outputs": [
    {
     "data": {
      "text/plain": [
       "84"
      ]
     },
     "execution_count": 44,
     "metadata": {},
     "output_type": "execute_result"
    }
   ],
   "source": [
    "mynumbers[3]"
   ]
  },
  {
   "cell_type": "code",
   "execution_count": 46,
   "id": "a43543ac",
   "metadata": {},
   "outputs": [
    {
     "data": {
      "text/plain": [
       "[28, 45, 84]"
      ]
     },
     "execution_count": 46,
     "metadata": {},
     "output_type": "execute_result"
    }
   ],
   "source": [
    "# index deletion\n",
    "mynumbers[1:]"
   ]
  },
  {
   "cell_type": "code",
   "execution_count": 47,
   "id": "1b7c7065",
   "metadata": {},
   "outputs": [
    {
     "data": {
      "text/plain": [
       "[23]"
      ]
     },
     "execution_count": 47,
     "metadata": {},
     "output_type": "execute_result"
    }
   ],
   "source": [
    "mynumbers[:1]"
   ]
  },
  {
   "cell_type": "code",
   "execution_count": 48,
   "id": "23423c8b",
   "metadata": {},
   "outputs": [],
   "source": [
    "# list of list operations\n",
    "names=['ravi','suresh','naresh',['karun','varun']]"
   ]
  },
  {
   "cell_type": "code",
   "execution_count": 49,
   "id": "db5b69e4",
   "metadata": {},
   "outputs": [
    {
     "data": {
      "text/plain": [
       "['ravi', 'suresh', 'naresh', ['karun', 'varun']]"
      ]
     },
     "execution_count": 49,
     "metadata": {},
     "output_type": "execute_result"
    }
   ],
   "source": [
    "names"
   ]
  },
  {
   "cell_type": "code",
   "execution_count": 50,
   "id": "af4d8f73",
   "metadata": {},
   "outputs": [
    {
     "data": {
      "text/plain": [
       "['karun', 'varun']"
      ]
     },
     "execution_count": 50,
     "metadata": {},
     "output_type": "execute_result"
    }
   ],
   "source": [
    "names[3]"
   ]
  },
  {
   "cell_type": "code",
   "execution_count": 51,
   "id": "0fc3cdd7",
   "metadata": {},
   "outputs": [
    {
     "data": {
      "text/plain": [
       "'suresh'"
      ]
     },
     "execution_count": 51,
     "metadata": {},
     "output_type": "execute_result"
    }
   ],
   "source": [
    "names[1]"
   ]
  },
  {
   "cell_type": "code",
   "execution_count": 52,
   "id": "9de2429b",
   "metadata": {},
   "outputs": [
    {
     "data": {
      "text/plain": [
       "False"
      ]
     },
     "execution_count": 52,
     "metadata": {},
     "output_type": "execute_result"
    }
   ],
   "source": [
    "# true or false logics\n",
    "25>89"
   ]
  },
  {
   "cell_type": "code",
   "execution_count": 53,
   "id": "4db8ff54",
   "metadata": {},
   "outputs": [
    {
     "data": {
      "text/plain": [
       "False"
      ]
     },
     "execution_count": 53,
     "metadata": {},
     "output_type": "execute_result"
    }
   ],
   "source": [
    "95<65"
   ]
  },
  {
   "cell_type": "code",
   "execution_count": 54,
   "id": "e04120d4",
   "metadata": {},
   "outputs": [
    {
     "data": {
      "text/plain": [
       "True"
      ]
     },
     "execution_count": 54,
     "metadata": {},
     "output_type": "execute_result"
    }
   ],
   "source": [
    "68<92"
   ]
  },
  {
   "cell_type": "code",
   "execution_count": 55,
   "id": "bc4b9dc3",
   "metadata": {},
   "outputs": [
    {
     "data": {
      "text/plain": [
       "True"
      ]
     },
     "execution_count": 55,
     "metadata": {},
     "output_type": "execute_result"
    }
   ],
   "source": [
    "101>29"
   ]
  },
  {
   "cell_type": "code",
   "execution_count": 56,
   "id": "d82e17ba",
   "metadata": {},
   "outputs": [
    {
     "data": {
      "text/plain": [
       "True"
      ]
     },
     "execution_count": 56,
     "metadata": {},
     "output_type": "execute_result"
    }
   ],
   "source": [
    "8==8"
   ]
  },
  {
   "cell_type": "code",
   "execution_count": 57,
   "id": "79777702",
   "metadata": {},
   "outputs": [
    {
     "data": {
      "text/plain": [
       "False"
      ]
     },
     "execution_count": 57,
     "metadata": {},
     "output_type": "execute_result"
    }
   ],
   "source": [
    "85>=90"
   ]
  },
  {
   "cell_type": "code",
   "execution_count": 58,
   "id": "5be909ab",
   "metadata": {},
   "outputs": [
    {
     "data": {
      "text/plain": [
       "True"
      ]
     },
     "execution_count": 58,
     "metadata": {},
     "output_type": "execute_result"
    }
   ],
   "source": [
    "99>=95"
   ]
  },
  {
   "cell_type": "code",
   "execution_count": 59,
   "id": "e4983266",
   "metadata": {},
   "outputs": [
    {
     "data": {
      "text/plain": [
       "False"
      ]
     },
     "execution_count": 59,
     "metadata": {},
     "output_type": "execute_result"
    }
   ],
   "source": [
    "85<=62"
   ]
  },
  {
   "cell_type": "code",
   "execution_count": 60,
   "id": "f92af639",
   "metadata": {},
   "outputs": [
    {
     "data": {
      "text/plain": [
       "True"
      ]
     },
     "execution_count": 60,
     "metadata": {},
     "output_type": "execute_result"
    }
   ],
   "source": [
    "89<=92"
   ]
  },
  {
   "cell_type": "code",
   "execution_count": 61,
   "id": "94abfca7",
   "metadata": {},
   "outputs": [
    {
     "data": {
      "text/plain": [
       "False"
      ]
     },
     "execution_count": 61,
     "metadata": {},
     "output_type": "execute_result"
    }
   ],
   "source": [
    "1==8"
   ]
  },
  {
   "cell_type": "code",
   "execution_count": 62,
   "id": "87b6c959",
   "metadata": {},
   "outputs": [
    {
     "data": {
      "text/plain": [
       "False"
      ]
     },
     "execution_count": 62,
     "metadata": {},
     "output_type": "execute_result"
    }
   ],
   "source": [
    "'ravi'=='mahesh'"
   ]
  },
  {
   "cell_type": "code",
   "execution_count": 63,
   "id": "1581fe59",
   "metadata": {},
   "outputs": [
    {
     "data": {
      "text/plain": [
       "True"
      ]
     },
     "execution_count": 63,
     "metadata": {},
     "output_type": "execute_result"
    }
   ],
   "source": [
    "'ravi'=='ravi'"
   ]
  },
  {
   "cell_type": "code",
   "execution_count": 78,
   "id": "9b425c32",
   "metadata": {},
   "outputs": [],
   "source": [
    "# list of list operations\n",
    "names=['ravi','suresh','naresh',['karun','varun']]"
   ]
  },
  {
   "cell_type": "code",
   "execution_count": 79,
   "id": "9d829462",
   "metadata": {},
   "outputs": [
    {
     "data": {
      "text/plain": [
       "['ravi', 'suresh', 'naresh', ['karun', 'varun']]"
      ]
     },
     "execution_count": 79,
     "metadata": {},
     "output_type": "execute_result"
    }
   ],
   "source": [
    "names"
   ]
  },
  {
   "cell_type": "code",
   "execution_count": 80,
   "id": "18faccdf",
   "metadata": {},
   "outputs": [],
   "source": [
    "# list of list operations\n",
    "names=['ravi','suresh','naresh',['karun','varun'],['sindu','varma']]"
   ]
  },
  {
   "cell_type": "code",
   "execution_count": 81,
   "id": "262b2ad3",
   "metadata": {},
   "outputs": [
    {
     "data": {
      "text/plain": [
       "['ravi', 'suresh', 'naresh', ['karun', 'varun'], ['sindu', 'varma']]"
      ]
     },
     "execution_count": 81,
     "metadata": {},
     "output_type": "execute_result"
    }
   ],
   "source": [
    "names"
   ]
  },
  {
   "cell_type": "code",
   "execution_count": 82,
   "id": "caf13b09",
   "metadata": {},
   "outputs": [
    {
     "data": {
      "text/plain": [
       "'a'"
      ]
     },
     "execution_count": 82,
     "metadata": {},
     "output_type": "execute_result"
    }
   ],
   "source": [
    "names[2][1]"
   ]
  },
  {
   "cell_type": "code",
   "execution_count": 83,
   "id": "00c5149c",
   "metadata": {},
   "outputs": [
    {
     "data": {
      "text/plain": [
       "'varun'"
      ]
     },
     "execution_count": 83,
     "metadata": {},
     "output_type": "execute_result"
    }
   ],
   "source": [
    "names[3][1]"
   ]
  },
  {
   "cell_type": "code",
   "execution_count": 85,
   "id": "62932b87",
   "metadata": {},
   "outputs": [
    {
     "data": {
      "text/plain": [
       "'varma'"
      ]
     },
     "execution_count": 85,
     "metadata": {},
     "output_type": "execute_result"
    }
   ],
   "source": [
    "names[4][1]"
   ]
  },
  {
   "cell_type": "code",
   "execution_count": 86,
   "id": "ca96581f",
   "metadata": {},
   "outputs": [
    {
     "data": {
      "text/plain": [
       "'sindu'"
      ]
     },
     "execution_count": 86,
     "metadata": {},
     "output_type": "execute_result"
    }
   ],
   "source": [
    "names[4][0]"
   ]
  },
  {
   "cell_type": "code",
   "execution_count": 87,
   "id": "634ef9c1",
   "metadata": {},
   "outputs": [
    {
     "data": {
      "text/plain": [
       "{1, 2, 3, 22, 23, 43, 45, 68, 86}"
      ]
     },
     "execution_count": 87,
     "metadata": {},
     "output_type": "execute_result"
    }
   ],
   "source": [
    "#  sets duplicates removes\n",
    "{1,2,3,45,68,1,23,45,86,68,2,43,22}"
   ]
  },
  {
   "cell_type": "code",
   "execution_count": 88,
   "id": "3874ec78",
   "metadata": {},
   "outputs": [
    {
     "data": {
      "text/plain": [
       "[1, 4, 5, 6, 4, 6, 5, 1, 9]"
      ]
     },
     "execution_count": 88,
     "metadata": {},
     "output_type": "execute_result"
    }
   ],
   "source": [
    "# list cannot removes duplicates\n",
    "[1,4,5,6,4,6,5,1,9]"
   ]
  },
  {
   "cell_type": "code",
   "execution_count": 90,
   "id": "1e4d36dc",
   "metadata": {},
   "outputs": [
    {
     "name": "stdout",
     "output_type": "stream",
     "text": [
      "0\n",
      "1\n",
      "2\n",
      "3\n",
      "4\n",
      "5\n",
      "6\n",
      "7\n",
      "8\n",
      "9\n",
      "10\n",
      "11\n",
      "12\n",
      "13\n",
      "14\n",
      "15\n",
      "16\n",
      "17\n",
      "18\n",
      "19\n"
     ]
    }
   ],
   "source": [
    "# indendation for loop (4 space requeied)\n",
    "for k in range(20):\n",
    "    print(k)"
   ]
  },
  {
   "cell_type": "code",
   "execution_count": 93,
   "id": "7e828f87",
   "metadata": {},
   "outputs": [
    {
     "name": "stdout",
     "output_type": "stream",
     "text": [
      "0\n",
      "1\n",
      "2\n",
      "3\n",
      "4\n",
      "5\n",
      "6\n",
      "7\n",
      "8\n",
      "9\n",
      "10\n",
      "11\n",
      "12\n",
      "13\n",
      "14\n",
      "15\n",
      "16\n",
      "17\n",
      "18\n",
      "19\n"
     ]
    }
   ],
   "source": [
    "# indendation for loop (4 space requeied)\n",
    "for k in range(20):\n",
    " print(k)"
   ]
  },
  {
   "cell_type": "code",
   "execution_count": 94,
   "id": "09456019",
   "metadata": {},
   "outputs": [
    {
     "name": "stdout",
     "output_type": "stream",
     "text": [
      "0\n",
      "1\n",
      "2\n",
      "3\n",
      "4\n",
      "5\n",
      "6\n",
      "7\n",
      "8\n",
      "9\n",
      "10\n",
      "11\n",
      "12\n",
      "13\n",
      "14\n",
      "15\n",
      "16\n",
      "17\n",
      "18\n",
      "19\n"
     ]
    }
   ],
   "source": [
    "# indendation for loop (4 space requeied)\n",
    "for k in range(20):\n",
    "  print(k)"
   ]
  },
  {
   "cell_type": "code",
   "execution_count": null,
   "id": "c7f06924",
   "metadata": {},
   "outputs": [],
   "source": []
  }
 ],
 "metadata": {
  "kernelspec": {
   "display_name": "Python 3 (ipykernel)",
   "language": "python",
   "name": "python3"
  },
  "language_info": {
   "codemirror_mode": {
    "name": "ipython",
    "version": 3
   },
   "file_extension": ".py",
   "mimetype": "text/x-python",
   "name": "python",
   "nbconvert_exporter": "python",
   "pygments_lexer": "ipython3",
   "version": "3.9.12"
  }
 },
 "nbformat": 4,
 "nbformat_minor": 5
}
