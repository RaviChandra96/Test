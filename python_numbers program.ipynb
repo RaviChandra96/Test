{
 "cells": [
  {
   "cell_type": "markdown",
   "id": "748bb87f",
   "metadata": {},
   "source": [
    "# Testing Program for python numbers"
   ]
  },
  {
   "cell_type": "code",
   "execution_count": 1,
   "id": "8ff77024",
   "metadata": {},
   "outputs": [
    {
     "data": {
      "text/plain": [
       "93"
      ]
     },
     "execution_count": 1,
     "metadata": {},
     "output_type": "execute_result"
    }
   ],
   "source": [
    "# Add Operations\n",
    "65+28"
   ]
  },
  {
   "cell_type": "code",
   "execution_count": 2,
   "id": "85824abd",
   "metadata": {},
   "outputs": [
    {
     "data": {
      "text/plain": [
       "82"
      ]
     },
     "execution_count": 2,
     "metadata": {},
     "output_type": "execute_result"
    }
   ],
   "source": [
    "# Sub Operation\n",
    "92-10"
   ]
  },
  {
   "cell_type": "code",
   "execution_count": 3,
   "id": "9404df93",
   "metadata": {},
   "outputs": [
    {
     "data": {
      "text/plain": [
       "2576"
      ]
     },
     "execution_count": 3,
     "metadata": {},
     "output_type": "execute_result"
    }
   ],
   "source": [
    "# Multiplication operation\n",
    "28*92"
   ]
  },
  {
   "cell_type": "code",
   "execution_count": 4,
   "id": "44204e5e",
   "metadata": {},
   "outputs": [
    {
     "data": {
      "text/plain": [
       "9.333333333333334"
      ]
     },
     "execution_count": 4,
     "metadata": {},
     "output_type": "execute_result"
    }
   ],
   "source": [
    "# Division Operation\n",
    "28/3"
   ]
  },
  {
   "cell_type": "code",
   "execution_count": 5,
   "id": "b61de763",
   "metadata": {},
   "outputs": [
    {
     "data": {
      "text/plain": [
       "3"
      ]
     },
     "execution_count": 5,
     "metadata": {},
     "output_type": "execute_result"
    }
   ],
   "source": [
    "# Divisions Operation\n",
    "698%5"
   ]
  },
  {
   "cell_type": "code",
   "execution_count": 6,
   "id": "d2edd106",
   "metadata": {},
   "outputs": [
    {
     "data": {
      "text/plain": [
       "916132832"
      ]
     },
     "execution_count": 6,
     "metadata": {},
     "output_type": "execute_result"
    }
   ],
   "source": [
    "# Power Operation\n",
    "62**5"
   ]
  },
  {
   "cell_type": "code",
   "execution_count": null,
   "id": "1f8cfa72",
   "metadata": {},
   "outputs": [],
   "source": []
  }
 ],
 "metadata": {
  "kernelspec": {
   "display_name": "Python 3 (ipykernel)",
   "language": "python",
   "name": "python3"
  },
  "language_info": {
   "codemirror_mode": {
    "name": "ipython",
    "version": 3
   },
   "file_extension": ".py",
   "mimetype": "text/x-python",
   "name": "python",
   "nbconvert_exporter": "python",
   "pygments_lexer": "ipython3",
   "version": "3.9.12"
  }
 },
 "nbformat": 4,
 "nbformat_minor": 5
}
